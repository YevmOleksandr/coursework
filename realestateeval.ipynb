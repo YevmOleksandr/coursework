{
 "cells": [
  {
   "cell_type": "markdown",
   "metadata": {},
   "source": [
    "# Передбачення цін нерохумості за допомогою Регресії та Випадкового лісу\n",
    "Метою цього проєкту є прогнозування цін на будинки з використанням одного базового алгоритму машинного навчання, лінійної регресії, та одного складного алгоритму, випадкового лісу. Ми також використаємо регресію з регуляризацією, таку як Ridge та Lasso, щоб спробувати покращити точність нашого прогнозування."
   ]
  },
  {
   "cell_type": "code",
   "execution_count": null,
   "metadata": {},
   "outputs": [],
   "source": [
    "import pandas as pd\n",
    "import numpy as np\n",
    "\n",
    "from matplotlib import pyplot as plt\n",
    "import seaborn as sns\n",
    "%matplotlib inline # щоб графіки відображались під коміркою з кодом де вони створюються\n",
    "\n",
    "from sklearn.linear_model import LinearRegression, Ridge, Lasso\n",
    "from sklearn.ensemble import RandomForestRegressor, StackingRegressor\n",
    "from sklearn.svm import SVR\n",
    "from sklearn.model_selection import cross_val_score, train_test_split, GridSearchCV"
   ]
  },
  {
   "cell_type": "markdown",
   "metadata": {},
   "source": [
    "# Завантаження даних, їх пергляд та нормалізація"
   ]
  },
  {
   "cell_type": "code",
   "execution_count": null,
   "metadata": {},
   "outputs": [
    {
     "name": "stdout",
     "output_type": "stream",
     "text": [
      "(1460, 81)\n",
      "<class 'pandas.core.frame.DataFrame'>\n",
      "RangeIndex: 1460 entries, 0 to 1459\n",
      "Data columns (total 81 columns):\n",
      " #   Column         Non-Null Count  Dtype  \n",
      "---  ------         --------------  -----  \n",
      " 0   Id             1460 non-null   int64  \n",
      " 1   MSSubClass     1460 non-null   int64  \n",
      " 2   MSZoning       1460 non-null   object \n",
      " 3   LotFrontage    1201 non-null   float64\n",
      " 4   LotArea        1460 non-null   int64  \n",
      " 5   Street         1460 non-null   object \n",
      " 6   Alley          91 non-null     object \n",
      " 7   LotShape       1460 non-null   object \n",
      " 8   LandContour    1460 non-null   object \n",
      " 9   Utilities      1460 non-null   object \n",
      " 10  LotConfig      1460 non-null   object \n",
      " 11  LandSlope      1460 non-null   object \n",
      " 12  Neighborhood   1460 non-null   object \n",
      " 13  Condition1     1460 non-null   object \n",
      " 14  Condition2     1460 non-null   object \n",
      " 15  BldgType       1460 non-null   object \n",
      " 16  HouseStyle     1460 non-null   object \n",
      " 17  OverallQual    1460 non-null   int64  \n",
      " 18  OverallCond    1460 non-null   int64  \n",
      " 19  YearBuilt      1460 non-null   int64  \n",
      " 20  YearRemodAdd   1460 non-null   int64  \n",
      " 21  RoofStyle      1460 non-null   object \n",
      " 22  RoofMatl       1460 non-null   object \n",
      " 23  Exterior1st    1460 non-null   object \n",
      " 24  Exterior2nd    1460 non-null   object \n",
      " 25  MasVnrType     588 non-null    object \n",
      " 26  MasVnrArea     1452 non-null   float64\n",
      " 27  ExterQual      1460 non-null   object \n",
      " 28  ExterCond      1460 non-null   object \n",
      " 29  Foundation     1460 non-null   object \n",
      " 30  BsmtQual       1423 non-null   object \n",
      " 31  BsmtCond       1423 non-null   object \n",
      " 32  BsmtExposure   1422 non-null   object \n",
      " 33  BsmtFinType1   1423 non-null   object \n",
      " 34  BsmtFinSF1     1460 non-null   int64  \n",
      " 35  BsmtFinType2   1422 non-null   object \n",
      " 36  BsmtFinSF2     1460 non-null   int64  \n",
      " 37  BsmtUnfSF      1460 non-null   int64  \n",
      " 38  TotalBsmtSF    1460 non-null   int64  \n",
      " 39  Heating        1460 non-null   object \n",
      " 40  HeatingQC      1460 non-null   object \n",
      " 41  CentralAir     1460 non-null   object \n",
      " 42  Electrical     1459 non-null   object \n",
      " 43  1stFlrSF       1460 non-null   int64  \n",
      " 44  2ndFlrSF       1460 non-null   int64  \n",
      " 45  LowQualFinSF   1460 non-null   int64  \n",
      " 46  GrLivArea      1460 non-null   int64  \n",
      " 47  BsmtFullBath   1460 non-null   int64  \n",
      " 48  BsmtHalfBath   1460 non-null   int64  \n",
      " 49  FullBath       1460 non-null   int64  \n",
      " 50  HalfBath       1460 non-null   int64  \n",
      " 51  BedroomAbvGr   1460 non-null   int64  \n",
      " 52  KitchenAbvGr   1460 non-null   int64  \n",
      " 53  KitchenQual    1460 non-null   object \n",
      " 54  TotRmsAbvGrd   1460 non-null   int64  \n",
      " 55  Functional     1460 non-null   object \n",
      " 56  Fireplaces     1460 non-null   int64  \n",
      " 57  FireplaceQu    770 non-null    object \n",
      " 58  GarageType     1379 non-null   object \n",
      " 59  GarageYrBlt    1379 non-null   float64\n",
      " 60  GarageFinish   1379 non-null   object \n",
      " 61  GarageCars     1460 non-null   int64  \n",
      " 62  GarageArea     1460 non-null   int64  \n",
      " 63  GarageQual     1379 non-null   object \n",
      " 64  GarageCond     1379 non-null   object \n",
      " 65  PavedDrive     1460 non-null   object \n",
      " 66  WoodDeckSF     1460 non-null   int64  \n",
      " 67  OpenPorchSF    1460 non-null   int64  \n",
      " 68  EnclosedPorch  1460 non-null   int64  \n",
      " 69  3SsnPorch      1460 non-null   int64  \n",
      " 70  ScreenPorch    1460 non-null   int64  \n",
      " 71  PoolArea       1460 non-null   int64  \n",
      " 72  PoolQC         7 non-null      object \n",
      " 73  Fence          281 non-null    object \n",
      " 74  MiscFeature    54 non-null     object \n",
      " 75  MiscVal        1460 non-null   int64  \n",
      " 76  MoSold         1460 non-null   int64  \n",
      " 77  YrSold         1460 non-null   int64  \n",
      " 78  SaleType       1460 non-null   object \n",
      " 79  SaleCondition  1460 non-null   object \n",
      " 80  SalePrice      1460 non-null   int64  \n",
      "dtypes: float64(3), int64(35), object(43)\n",
      "memory usage: 924.0+ KB\n"
     ]
    },
    {
     "data": {
      "text/plain": [
       "(455, 76)"
      ]
     },
     "execution_count": 3,
     "metadata": {},
     "output_type": "execute_result"
    }
   ],
   "source": [
    "df = pd.read_csv('KeggleHousePrices_train.csv')\n",
    "print(df.shape)\n",
    "# Поглянемо на датасет\n",
    "df.head()\n",
    "df.info()\n",
    "# Знаходимо колонки з пропущеними значеннями та відсоток пропусків\n",
    "df.isnull().sum()                                                     \n",
    "miss_val = df.isnull().sum().sort_values(ascending=False)\n",
    "miss_val = pd.DataFrame(data=df.isnull().sum().sort_values(ascending=False), columns=['MissvalCount'])\n",
    "\n",
    "# Додаємо нову колонку до датафрейму та заповнюємо її відсотком пропущених значень\n",
    "miss_val['Percent'] = miss_val.MissvalCount.apply(lambda x : '{:.2f}'.format(float(x)/df.shape[0] * 100)) \n",
    "miss_val = miss_val[miss_val.MissvalCount > 0]\n",
    "miss_val\n",
    "#Видалення колонок з великою кількістю пропусків\n",
    "df = df.drop(['Fence', 'MiscFeature', 'PoolQC','FireplaceQu','Alley'], axis=1)\n",
    "df.dropna(inplace=True)\n",
    "df.shape"
   ]
  },
  {
   "cell_type": "markdown",
   "metadata": {},
   "source": [
    "У цьому блоці ми:\n",
    "\n",
    "1.Завантажили датасет і перевірили його розмір.\n",
    "\n",
    "2.Оглянули структуру даних: переглянули перші рядки, типи даних і наявність пропущених значень.\n",
    "\n",
    "3.Знайшли колонки з пропущеними значеннями та обчислили відсоток відсутніх даних у кожній з них.\n",
    "\n",
    "4.Видалили колонки з великою кількістю пропусків (Fence, MiscFeature, PoolQC, FireplaceQu, Alley).\n",
    "\n",
    "5.Видалили всі рядки, в яких залишилися пропущені значення.\n",
    "\n",
    "6.Після очищення ще раз перевірили розмір датасету."
   ]
  },
  {
   "cell_type": "markdown",
   "metadata": {},
   "source": [
    "# Графіки та дані\n",
    "Давайте розглянемо розподіли даних ознак. Ми почнемо з цільової змінної, SalesPrice, щоб переконатися, що вона має нормальний розподіл. Це важливо, оскільки більшість алгоритмів машинного навчання роблять припущення, що дані мають нормальний розподіл. Коли дані відповідають нормальному розподілу, ми можемо робити висновки про популяцію, використовуючи аналітичні методи."
   ]
  },
  {
   "cell_type": "code",
   "execution_count": 4,
   "metadata": {},
   "outputs": [
    {
     "name": "stderr",
     "output_type": "stream",
     "text": [
      "C:\\Users\\Олександр\\AppData\\Local\\Temp\\ipykernel_13076\\897806631.py:2: UserWarning: \n",
      "\n",
      "`distplot` is a deprecated function and will be removed in seaborn v0.14.0.\n",
      "\n",
      "Please adapt your code to use either `displot` (a figure-level function with\n",
      "similar flexibility) or `histplot` (an axes-level function for histograms).\n",
      "\n",
      "For a guide to updating your code to use the new functions, please see\n",
      "https://gist.github.com/mwaskom/de44147ed2974457ad6372750bbe5751\n",
      "\n",
      "  sns.distplot(df['SalePrice'])\n"
     ]
    },
    {
     "data": {
      "image/png": "[encoded data removed]",
      "text/plain": [
       "<Figure size 640x480 with 1 Axes>"
      ]
     },
     "metadata": {},
     "output_type": "display_data"
    },
    {
     "name": "stderr",
     "output_type": "stream",
     "text": [
      "C:\\Users\\Олександр\\AppData\\Local\\Temp\\ipykernel_13076\\897806631.py:7: UserWarning: \n",
      "\n",
      "`distplot` is a deprecated function and will be removed in seaborn v0.14.0.\n",
      "\n",
      "Please adapt your code to use either `displot` (a figure-level function with\n",
      "similar flexibility) or `histplot` (an axes-level function for histograms).\n",
      "\n",
      "For a guide to updating your code to use the new functions, please see\n",
      "https://gist.github.com/mwaskom/de44147ed2974457ad6372750bbe5751\n",
      "\n",
      "  sns.distplot(np.log(df['SalePrice']))\n"
     ]
    },
    {
     "data": {
      "image/png": "[encoded data removed]",
      "text/plain": [
       "<Figure size 640x480 with 1 Axes>"
      ]
     },
     "metadata": {},
     "output_type": "display_data"
    },
    {
     "name": "stdout",
     "output_type": "stream",
     "text": [
      "MiscVal          13.062759\n",
      "PoolArea         12.559283\n",
      "3SsnPorch         7.997668\n",
      "BsmtFinSF2        6.127774\n",
      "KitchenAbvGr      5.678190\n",
      "EnclosedPorch     4.848662\n",
      "BsmtHalfBath      4.290351\n",
      "LotArea           4.082474\n",
      "ScreenPorch       3.662176\n",
      "TotalBsmtSF       2.592187\n",
      "BsmtFinSF1        2.146508\n",
      "MasVnrArea        2.128411\n",
      "GrLivArea         1.895301\n",
      "OpenPorchSF       1.667232\n",
      "LotFrontage       1.623360\n",
      "OverallCond       1.372570\n",
      "1stFlrSF          1.343134\n",
      "MSSubClass        1.106013\n",
      "WoodDeckSF        0.857639\n",
      "BsmtUnfSF         0.855804\n",
      "2ndFlrSF          0.852999\n",
      "TotRmsAbvGrd      0.736877\n",
      "GarageArea        0.659486\n",
      "HalfBath          0.472357\n",
      "Fireplaces        0.335822\n",
      "LogOfPrice        0.261798\n",
      "BedroomAbvGr      0.252570\n",
      "YrSold            0.158343\n",
      "OverallQual       0.157532\n",
      "BsmtFullBath      0.151391\n",
      "MoSold            0.138804\n",
      "Id                0.055842\n",
      "LowQualFinSF      0.000000\n",
      "GarageCars       -0.076837\n",
      "FullBath         -0.508108\n",
      "YearBuilt        -0.736565\n",
      "GarageYrBlt      -0.764004\n",
      "YearRemodAdd     -0.954359\n",
      "dtype: float64\n"
     ]
    }
   ],
   "source": [
    "# 1. Побудова графіка для початкової ціни\n",
    "sns.distplot(df['SalePrice'])\n",
    "plt.title('Розподіл ціни')\n",
    "plt.show()\n",
    "\n",
    "# 2. Побудова графіка після логарифмування\n",
    "sns.distplot(np.log(df['SalePrice']))\n",
    "plt.title('Розподіл ціни (Розподіл Гауса)')\n",
    "plt.show()\n",
    "\n",
    "# 3. Додаємо колонку з логарифмом ціни\n",
    "df['LogOfPrice'] = np.log(df['SalePrice'])\n",
    "\n",
    "# 4. Тепер можна видалити колонку з оригінальною ціною\n",
    "df.drop(['SalePrice'], axis=1, inplace=True)\n",
    "\n",
    "# 5. Обчислюємо скошеність тільки для числових ознак\n",
    "skew_values = df.select_dtypes(include=['int64', 'float64']).skew().sort_values(ascending=False)\n",
    "print(skew_values)\n"
   ]
  },
  {
   "cell_type": "markdown",
   "metadata": {},
   "source": [
    "Значення, ближчі до нуля, менш перекошені. Результати показують, що деякі ознаки мають позитивну (правохвосту) або негативну (лівохвосту) перекошеність. Ми бачимо, що YearBuilt дещо перекошений вліво, але в цілому має нормальний розподіл, тоді як LotArea та PoolArea сильно перекошені вправо. Сильно перекошені розподіли в наборі даних можуть отримати користь від певних перетворень даних для покращення точності нашого прогнозування."
   ]
  },
  {
   "cell_type": "markdown",
   "metadata": {},
   "source": [
    "# Навчальний та тестовий набори даних\n",
    "Перш ніж ми зможемо почати моделювати дані, нам потрібно розділити набір даних на навчальний та тестовий набори. Ми будемо навчати моделі на навчальному наборі та перевіряти їх на тестовому наборі. Згадайте, що в нашому наборі даних багато текстових ознак. Більшість моделей машинного навчання вимагають числових вхідних ознак. Оскільки процес перетворення текстових ознак на числове представлення є складним завданням, ми для простоти використовуватимемо лише числові ознаки в нашому прогнозуванні цін."
   ]
  },
  {
   "cell_type": "code",
   "execution_count": null,
   "metadata": {},
   "outputs": [],
   "source": [
    "# встановлюємо цільову змінну та предиктори\n",
    "y = df.LogOfPrice  # змінна\n",
    "\n",
    "# використовуємо тільки ті вхідні ознаки, що мають числовий тип даних \n",
    "df_temp = df.select_dtypes(include=[\"int64\",\"float64\"]) \n",
    "X = df_temp.drop([\"LogOfPrice\"],axis=1)  # predictors\n",
    "\n",
    "# в даному прикладі я використовую 75% набору даних для навчання та залишу 25% для тестування\n",
    "# розділяємо датасет на навчальну та тестову вибірки\n",
    "X_train, X_test, y_train, y_test = train_test_split(X, y, test_size = .25, random_state = 3)"
   ]
  },
  {
   "cell_type": "markdown",
   "metadata": {},
   "source": [
    "# Моделуювання\n",
    "В ході курсової роботи побудуємо чотири моделі та оцінимо їхню продуктивність за метрикою R². Крім того, ми отримаємо уявлення про ознаки, які є сильними предикторами цін на будинки в нашому датасеті."
   ]
  },
  {
   "cell_type": "markdown",
   "metadata": {},
   "source": [
    "# Лінійна Регресія"
   ]
  },
  {
   "cell_type": "code",
   "execution_count": null,
   "metadata": {},
   "outputs": [
    {
     "name": "stdout",
     "output_type": "stream",
     "text": [
      "Точність (R² на тестовій вибірці): 85.84%\n",
      "Результати крос-валідації (R²): [0.86179324 0.75396783 0.69743321 0.86432327 0.27489253]\n",
      "Середній R² (CV): 69.05%\n"
     ]
    }
   ],
   "source": [
    "lr = LinearRegression()\n",
    "# навчаємо оптимальну лінію лінійної регресії на тренувальних даних\n",
    "lr.fit(X_train, y_train)\n",
    "lr.fit(X_train, y_train)\n",
    "# маючи нашу модель та її навчання, прогнозуємо значення y, використовуючи тестовий набір X_test\n",
    "yr_hat = lr.predict(X_test)\n",
    "# оцінюємо алгоритм за допомогою тестового набору\n",
    "lr_score = lr.score(X_test, y_test)  # train test \n",
    "print(f\"Точність (R² на тестовій вибірці): {lr_score * 100:.2f}%\")\n",
    "#перевірка наскільки добре спрацював метод розділення на навчальний та тестовий набори. Ми проведемо крос-валідацію, щоб побачити, чи модель не перенавчається:\n",
    "# крос-валідація для знаходження валідаційної оцінки на кількох вибірках, автоматично виконує Kfold стратифікацію\n",
    "lr_cv = cross_val_score(lr, X, y, cv = 5, scoring= 'r2')\n",
    "print(\"Результати крос-валідації (R²):\", lr_cv)\n",
    "print(f\"Середній R² (CV): {lr_cv.mean() * 100:.2f}%\")"
   ]
  },
  {
   "cell_type": "markdown",
   "metadata": {},
   "source": [
    "Схоже, що для цього набору даних, розділеного на навчальний та тестовий, модель не перенавчається (показники крос-валідації дуже близькі за значенням). Можливо, вона дещо перенавчена, але ми не можемо точно сказати це лише за метрикою R-квадрат. Якщо вона перенавчена, ми можемо застосувати деякі перетворення даних або інженерію ознак, щоб покращити її продуктивність. Але наша головна мета спочатку полягає в тому, щоб швидко перевірити кілька алгоритмів і пізніше налаштувати модель.\n",
    "\n",
    "Щоб запобігти перенавчанню, яке може виникнути внаслідок простої лінійної регресії, ми можемо використовувати моделі регресії з регуляризацією. Давайте далі розглянемо Ridge та Lasso.\n",
    "\n",
    "Параметр alpha в Ridge та Lasso регуляризує модель регресії. Алгоритми регресії з регуляризацією відрізняються від лінійної регресії тим, що намагаються штрафувати ті ознаки, які не є значущими в нашому прогнозуванні. Ridge намагатиметься зменшити їхній вплив (тобто стиснути їхні коефіцієнти), щоб оптимізувати всі вхідні ознаки. Lasso намагатиметься видалити незначущі ознаки, зробивши їхні коефіцієнти нульовими. Коротко кажучи, Lasso (L1-регуляризація) може усунути незначущі ознаки, таким чином виконуючи відбір ознак, тоді як Ridge (L2-регуляризація) не може цього зробити."
   ]
  },
  {
   "cell_type": "markdown",
   "metadata": {},
   "source": [
    "# Ridge регресія"
   ]
  },
  {
   "cell_type": "code",
   "execution_count": 7,
   "metadata": {},
   "outputs": [
    {
     "name": "stdout",
     "output_type": "stream",
     "text": [
      "Результати крос-валідації (R²): [0.86157021 0.75386273 0.69706725 0.86647877 0.27327086]\n",
      "Середній R² (CV): 69.04%\n"
     ]
    }
   ],
   "source": [
    "ridge = Ridge(alpha = 1)\n",
    "ridge.fit(X_train, y_train)\n",
    "\n",
    "ridge_cv = cross_val_score(ridge, X, y, cv=5, scoring='r2')\n",
    "print(\"Результати крос-валідації (R²):\", ridge_cv)\n",
    "print(f\"Середній R² (CV): {ridge_cv.mean() * 100:.2f}%\")\n"
   ]
  },
  {
   "cell_type": "markdown",
   "metadata": {},
   "source": [
    "# Lasso регресія"
   ]
  },
  {
   "cell_type": "code",
   "execution_count": 8,
   "metadata": {},
   "outputs": [
    {
     "name": "stdout",
     "output_type": "stream",
     "text": [
      "Результати крос-валідації (R²): [0.86170089 0.7493793  0.6949451  0.87115145 0.25108923]\n",
      "Середній R² (CV): 68.57%\n"
     ]
    }
   ],
   "source": [
    "lasso = Lasso(alpha = 0.001)\n",
    "lasso.fit(X_train, y_train)\n",
    "\n",
    "lasso_cv = cross_val_score(lasso, X, y, cv=5, scoring='r2')\n",
    "print(\"Результати крос-валідації (R²):\", lasso_cv)\n",
    "print(f\"Середній R² (CV): {lasso_cv.mean() * 100:.2f}%\")\n",
    "\n",
    "# Щоб визначити найкраще значення альфа(параметр регуляризації) для моделі, ми можемо використовувати GridSearch. \n",
    "# Ми б передали GridSearch діапазон значень альфа, і він би спробував їх усі в крос-валідації, щоб вивести найкраще для моделі."
   ]
  },
  {
   "cell_type": "markdown",
   "metadata": {},
   "source": [
    "# Випадковий ліс"
   ]
  },
  {
   "cell_type": "markdown",
   "metadata": {},
   "source": [
    "Випадковий ліс є складним алгоритмом машинного навчання на основі дерев рішень. Він має алгоритм випадкового лісу для класифікації та регресії. Його продуктивність дещо краща, ніж у регресії. Подібно до регуляризації, ми можемо оптимізувати параметри моделі для найкращої продуктивності, використовуючи GridSearch."
   ]
  },
  {
   "cell_type": "code",
   "execution_count": null,
   "metadata": {},
   "outputs": [
    {
     "name": "stdout",
     "output_type": "stream",
     "text": [
      "Середній R² (CV): 84.97%\n"
     ]
    },
    {
     "data": {
      "text/plain": [
       "array([4.92670742e-03, 2.69771499e-03, 1.54226568e-02, 3.89343216e-02,\n",
       "       5.90143451e-01, 3.87355632e-03, 3.97083067e-02, 6.60010080e-03,\n",
       "       1.66352768e-02, 2.00852528e-02, 2.36496663e-04, 1.29339732e-02,\n",
       "       3.27299959e-02, 1.99679044e-02, 1.19081761e-02, 0.00000000e+00,\n",
       "       7.73466539e-02, 1.32568359e-03, 1.27300398e-04, 1.80629553e-02,\n",
       "       1.76856298e-03, 3.02464000e-03, 1.46416044e-04, 7.99074289e-03,\n",
       "       5.32815335e-03, 4.94494555e-03, 1.26314654e-02, 2.36829253e-02,\n",
       "       5.78704867e-03, 1.03308890e-02, 1.74468711e-04, 2.32774132e-04,\n",
       "       5.83803695e-04, 1.88415432e-04, 5.46453881e-06, 7.26392752e-03,\n",
       "       2.24887211e-03])"
      ]
     },
     "execution_count": 9,
     "metadata": {},
     "output_type": "execute_result"
    }
   ],
   "source": [
    "rfr = RandomForestRegressor()\n",
    "rfr.fit(X_train, y_train) # навчаємо модель rfr\n",
    "rfr_cv = cross_val_score(rfr,X, y, cv = 5, scoring = 'r2')\n",
    "print(f\"Середній R² (CV): {rfr_cv.mean() * 100:.2f}%\")\n",
    "rfr.feature_importances_"
   ]
  },
  {
   "cell_type": "markdown",
   "metadata": {},
   "source": [
    "# Стекінг\n",
    "Стекінг є ансамблевим методом машинного навчання, який комбінує прогнози декількох базових моделей (у цьому випадку Ridge та Випадковий ліс) за допомогою фінальної моделі (Лінійної регресії). Метою є покращення точності прогнозування шляхом використання сильних сторін різних алгоритмів. Його продуктивність може бути вищою, ніж у окремих базових моделей."
   ]
  },
  {
   "cell_type": "code",
   "execution_count": 12,
   "metadata": {},
   "outputs": [
    {
     "name": "stdout",
     "output_type": "stream",
     "text": [
      "R² на тестовій вибірці: 87.12%\n",
      "Середній R² (CV): 84.18%\n"
     ]
    }
   ],
   "source": [
    "stack = StackingRegressor(\n",
    "    estimators=[\n",
    "        ('ridge', Ridge(alpha=1.0)),\n",
    "        ('rfr', RandomForestRegressor(n_estimators=100, random_state=42))\n",
    "    ],\n",
    "    final_estimator=LinearRegression(),\n",
    "    cv=5\n",
    ")\n",
    "\n",
    "# тренування на навчальній вибірці\n",
    "stack.fit(X_train, y_train)\n",
    "\n",
    "# оцінка на тестовій вибірці\n",
    "stack_score = stack.score(X_test, y_test)\n",
    "print(f\"R² на тестовій вибірці: {stack_score * 100:.2f}%\")\n",
    "\n",
    "# крос-валідація по всіх даних\n",
    "stack_cv = cross_val_score(stack, X, y, cv=5, scoring='r2')\n",
    "print(f\"Середній R² (CV): {stack_cv.mean() * 100:.2f}%\")\n"
   ]
  },
  {
   "cell_type": "markdown",
   "metadata": {},
   "source": [
    "# Візуалізація важливості ознак"
   ]
  },
  {
   "cell_type": "code",
   "execution_count": null,
   "metadata": {},
   "outputs": [
    {
     "name": "stdout",
     "output_type": "stream",
     "text": [
      "['OverallQual', 'GrLivArea', 'YearBuilt', 'LotArea', 'TotalBsmtSF', 'GarageArea', 'BsmtFinSF1', '1stFlrSF', 'FullBath', 'MasVnrArea', 'LotFrontage', 'BsmtUnfSF', 'GarageCars', '2ndFlrSF', 'OpenPorchSF']\n"
     ]
    },
    {
     "data": {
      "image/png": "[encoded data removed]",
      "text/plain": [
       "<Figure size 640x480 with 1 Axes>"
      ]
     },
     "metadata": {},
     "output_type": "display_data"
    }
   ],
   "source": [
    "importance = rfr.feature_importances_\n",
    "\n",
    "# співставляємо значення важливості ознак з їх назвами\n",
    "feature_importances = zip(importance, X.columns)\n",
    "\n",
    "sorted_feature_importances = sorted(feature_importances, reverse = True)\n",
    "\n",
    "top_15_predictors = sorted_feature_importances[0:15]\n",
    "values = [value for value, predictors in top_15_predictors]\n",
    "predictors = [predictors for value, predictors in top_15_predictors]\n",
    "print(predictors)\n",
    "\n",
    "plt.figure()\n",
    "plt.title(\"Feature importances\")\n",
    "plt.bar(range(len(predictors)), values,color=\"r\", align=\"center\");\n",
    "plt.xticks(range(len(predictors)), predictors, rotation=90);"
   ]
  },
  {
   "cell_type": "markdown",
   "metadata": {},
   "source": [
    "# Висновки\n",
    "\n",
    "У ході цього дослідження ансамблеві методи продемонстрували найкращу точність для прогнозування цін на житлову нерухомість. Зокрема, модель Стекінгу (Stacking) показала найвищий результат на тестовій вибірці з R²\n",
    "близько 87.12%. Модель Випадкового лісу (Random Forest) також виявилася дуже точною, показавши найвищий середній R² при крос-валідації — близько 84.97% (у порівнянні з 84.18% у Стекінгу). Обидва ці ансамблеві методи значно перевершили простіші регресійні моделі (Лінійну, Ridge та Lasso), які показали середню точність близько 69% при крос-валідації.   \n",
    "\n",
    "Аналіз важливості ознак за допомогою Випадкового лісу (оскільки стекинг не надає такої прямої інтерпретації за замовчуванням) показав, що загальна якість будинку (OverallQual) є найважливішим предиктором ціни. Наступними за важливістю йдуть житлова площа надземної частини будинку (GrLivArea) та рік побудови (YearBuilt). Ознака площі ділянки (LotArea) посіла четверте місце за важливістю.   \n",
    "\n",
    "Машинне навчання — це ітеративний процес. Цей перший етап дослідження даних та оцінки моделей слугує гарною відправною точкою для швидкого отримання уявлень та створення першого прототипу моделі з високою точністю. Набір даних має значну структуру, і подальша робота може ще покращити продуктивність моделі прогнозування.\n",
    "\n",
    "Можливі дослідження в майбутньому:\n",
    "\n",
    "•Попередня обробка даних: Спробувати різні типи перетворень даних (наприклад, логарифмування інших ознак, стандартизація), щоб краще виявити структуру даних та потенційно підвищити точність моделі.\n",
    "\n",
    "•Відбір та інженерія ознак: Провести ретельніший відбір ознак, можливо, видаливши сильно скорельовані (мультиколінеарність), або створити нові ознаки на основі наявних.\n",
    "\n",
    "•Масштабування даних: Застосувати масштабування або нормалізацію до навчального набору даних, щоб зменшити вплив різних масштабів числових ознак. \n",
    "  \n",
    "•Моделювання: Використовувати GridSearch для підбору оптимальних гіперпараметрів для моделей (включно з базовими моделями та мета-моделлю у Стекінгу). Спробувати інші алгоритми машинного навчання та більш складні ансамблеві методи.   "
   ]
  }
 ],
 "metadata": {
  "kernelspec": {
   "display_name": "Python 3",
   "language": "python",
   "name": "python3"
  },
  "language_info": {
   "codemirror_mode": {
    "name": "ipython",
    "version": 3
   },
   "file_extension": ".py",
   "mimetype": "text/x-python",
   "name": "python",
   "nbconvert_exporter": "python",
   "pygments_lexer": "ipython3",
   "version": "3.12.1"
  }
 },
 "nbformat": 4,
 "nbformat_minor": 2
}
